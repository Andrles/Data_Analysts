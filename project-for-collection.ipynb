{
 "cells": [
  {
   "cell_type": "code",
   "execution_count": 1,
   "id": "a241d9c1",
   "metadata": {
    "execution": {
     "iopub.execute_input": "2025-06-08T10:04:50.150073Z",
     "iopub.status.busy": "2025-06-08T10:04:50.149654Z",
     "iopub.status.idle": "2025-06-08T10:04:56.486755Z",
     "shell.execute_reply": "2025-06-08T10:04:56.485813Z"
    },
    "papermill": {
     "duration": 6.347879,
     "end_time": "2025-06-08T10:04:56.488399",
     "exception": false,
     "start_time": "2025-06-08T10:04:50.140520",
     "status": "completed"
    },
    "tags": []
   },
   "outputs": [],
   "source": [
    "# Основные библиотеки для работы с данными\n",
    "import numpy as np               # Математические операции, массивы\n",
    "import pandas as pd              # Работа с таблицами, датафреймами\n",
    "\n",
    "# Визуализация данных\n",
    "import matplotlib.pyplot as plt # Классика графиков и визуализаций\n",
    "import seaborn as sns           # Крутые статистические графики поверх matplotlib\n",
    "\n",
    "# Статистические тесты и распределения\n",
    "from scipy import stats         # Основные тесты и распределения (t-test, chi2, etc.)\n",
    "from scipy.stats import (\n",
    "    shapiro,                   # Тест Шапиро-Уилка для нормальности\n",
    "    levene,                    # Тест Левена для равенства дисперсий\n",
    "    f_oneway,                  # ANOVA для сравнения средних\n",
    "    kruskal,                   # Крускал-Уоллис — непараметрический аналог ANOVA\n",
    "    ttest_ind,                 # Независимый t-тест\n",
    "    chi2_contingency           # Тест хи-квадрат\n",
    ")\n",
    "\n",
    "from scipy.stats import pearsonr\n",
    "from sklearn.model_selection import train_test_split\n",
    "from sklearn.linear_model import LinearRegression\n",
    "from sklearn.metrics import mean_squared_error, r2_score\n",
    "\n",
    "# Дополнительно для более продвинутой статистики и машинного обучения\n",
    "import statsmodels.api as sm    # Расширенные статистические модели (регрессия, GLM и пр.)\n",
    "import statsmodels.formula.api as smf  # Формульный синтаксис для моделей\n",
    "\n",
    "# Для работы с датами (если нужно)\n",
    "import datetime as dt\n",
    "\n",
    "# Для генерации случайных чисел и псевдослучайных процессов\n",
    "import random\n",
    "\n",
    "# При необходимости — библиотека для байесовской статистики, например:\n",
    "# import pymc3 as pm            # Байесовские модели (если нужно)\n",
    "\n",
    "# И, конечно, если нужно продвинутой визуализации:\n",
    "# import plotly.express as px    # Интерактивные графики"
   ]
  },
  {
   "cell_type": "code",
   "execution_count": 2,
   "id": "56487d70",
   "metadata": {
    "execution": {
     "iopub.execute_input": "2025-06-08T10:04:56.503807Z",
     "iopub.status.busy": "2025-06-08T10:04:56.502702Z",
     "iopub.status.idle": "2025-06-08T10:04:56.546580Z",
     "shell.execute_reply": "2025-06-08T10:04:56.545556Z"
    },
    "papermill": {
     "duration": 0.052762,
     "end_time": "2025-06-08T10:04:56.548092",
     "exception": false,
     "start_time": "2025-06-08T10:04:56.495330",
     "status": "completed"
    },
    "tags": []
   },
   "outputs": [
    {
     "data": {
      "text/html": [
       "<div>\n",
       "<style scoped>\n",
       "    .dataframe tbody tr th:only-of-type {\n",
       "        vertical-align: middle;\n",
       "    }\n",
       "\n",
       "    .dataframe tbody tr th {\n",
       "        vertical-align: top;\n",
       "    }\n",
       "\n",
       "    .dataframe thead th {\n",
       "        text-align: right;\n",
       "    }\n",
       "</style>\n",
       "<table border=\"1\" class=\"dataframe\">\n",
       "  <thead>\n",
       "    <tr style=\"text-align: right;\">\n",
       "      <th></th>\n",
       "      <th>user_id</th>\n",
       "      <th>age</th>\n",
       "      <th>gender</th>\n",
       "      <th>country</th>\n",
       "      <th>score</th>\n",
       "      <th>activity_score</th>\n",
       "      <th>status</th>\n",
       "      <th>reg_date</th>\n",
       "      <th>user_name</th>\n",
       "    </tr>\n",
       "  </thead>\n",
       "  <tbody>\n",
       "    <tr>\n",
       "      <th>0</th>\n",
       "      <td>1</td>\n",
       "      <td>56</td>\n",
       "      <td>Female</td>\n",
       "      <td>France</td>\n",
       "      <td>66.4</td>\n",
       "      <td>71.9</td>\n",
       "      <td>active</td>\n",
       "      <td>2024-02-03</td>\n",
       "      <td>User_1</td>\n",
       "    </tr>\n",
       "    <tr>\n",
       "      <th>1</th>\n",
       "      <td>2</td>\n",
       "      <td>46</td>\n",
       "      <td>Male</td>\n",
       "      <td>France</td>\n",
       "      <td>82.9</td>\n",
       "      <td>58.4</td>\n",
       "      <td>active</td>\n",
       "      <td>2024-01-13</td>\n",
       "      <td>User_2</td>\n",
       "    </tr>\n",
       "    <tr>\n",
       "      <th>2</th>\n",
       "      <td>3</td>\n",
       "      <td>32</td>\n",
       "      <td>Female</td>\n",
       "      <td>UK</td>\n",
       "      <td>81.3</td>\n",
       "      <td>66.7</td>\n",
       "      <td>active</td>\n",
       "      <td>2024-05-20</td>\n",
       "      <td>User_3</td>\n",
       "    </tr>\n",
       "    <tr>\n",
       "      <th>3</th>\n",
       "      <td>4</td>\n",
       "      <td>60</td>\n",
       "      <td>Male</td>\n",
       "      <td>Canada</td>\n",
       "      <td>52.5</td>\n",
       "      <td>78.9</td>\n",
       "      <td>active</td>\n",
       "      <td>2024-01-18</td>\n",
       "      <td>User_4</td>\n",
       "    </tr>\n",
       "    <tr>\n",
       "      <th>4</th>\n",
       "      <td>5</td>\n",
       "      <td>25</td>\n",
       "      <td>Male</td>\n",
       "      <td>USA</td>\n",
       "      <td>50.4</td>\n",
       "      <td>64.6</td>\n",
       "      <td>inactive</td>\n",
       "      <td>2024-04-05</td>\n",
       "      <td>User_5</td>\n",
       "    </tr>\n",
       "  </tbody>\n",
       "</table>\n",
       "</div>"
      ],
      "text/plain": [
       "   user_id  age  gender country  score  activity_score    status   reg_date  \\\n",
       "0        1   56  Female  France   66.4            71.9    active 2024-02-03   \n",
       "1        2   46    Male  France   82.9            58.4    active 2024-01-13   \n",
       "2        3   32  Female      UK   81.3            66.7    active 2024-05-20   \n",
       "3        4   60    Male  Canada   52.5            78.9    active 2024-01-18   \n",
       "4        5   25    Male     USA   50.4            64.6  inactive 2024-04-05   \n",
       "\n",
       "  user_name  \n",
       "0    User_1  \n",
       "1    User_2  \n",
       "2    User_3  \n",
       "3    User_4  \n",
       "4    User_5  "
      ]
     },
     "execution_count": 2,
     "metadata": {},
     "output_type": "execute_result"
    }
   ],
   "source": [
    "np.random.seed(42)\n",
    "\n",
    "n = 200\n",
    "countries = ['USA', 'Germany', 'UK', 'Canada', 'France']\n",
    "genders = ['Male', 'Female']\n",
    "\n",
    "df_portfolio = pd.DataFrame({\n",
    "    'user_id': range(1, n+1),\n",
    "    'age': np.random.randint(18, 65, size=n),\n",
    "    'gender': np.random.choice(genders, size=n),\n",
    "    'country': np.random.choice(countries, size=n),\n",
    "    'score': np.round(np.random.normal(loc=75, scale=10, size=n), 1),\n",
    "    'activity_score': np.round(np.random.uniform(20, 100, size=n), 1),\n",
    "    'status': np.random.choice(['active', 'inactive', None], size=n, p=[0.6, 0.3, 0.1])\n",
    "})\n",
    "\n",
    "# Добавим даты регистрации\n",
    "start_date = pd.to_datetime('2024-01-01')\n",
    "df_portfolio['reg_date'] = start_date + pd.to_timedelta(np.random.randint(0, 150, size=n), unit='D')\n",
    "\n",
    "# Добавим поле с именем для работы со строками\n",
    "df_portfolio['user_name'] = ['User_' + str(i) for i in range(1, n+1)]\n",
    "\n",
    "df_portfolio.head()"
   ]
  },
  {
   "cell_type": "markdown",
   "id": "0b97131b",
   "metadata": {
    "papermill": {
     "duration": 0.006446,
     "end_time": "2025-06-08T10:04:56.561453",
     "exception": false,
     "start_time": "2025-06-08T10:04:56.555007",
     "status": "completed"
    },
    "tags": []
   },
   "source": [
    "# # 📌 Проект: Анализ пользовательской активности и показателей\n",
    "### 📌 Описание проекта\n",
    "#### Цель: Провести анализ пользовательских данных, выявить зависимости между активностью и оценкой, проверить статистические гипотезы, построить регрессионную модель.\n",
    "#### Инструменты: pandas, numpy, seaborn, matplotlib, scipy, sklearn.\n",
    "#### Темы: очистка данных, обработка строк и дат, группировки, сводные таблицы, визуализация, корреляции, проверка гипотез, линейная регрессия."
   ]
  },
  {
   "cell_type": "markdown",
   "id": "a5c10fbd",
   "metadata": {
    "papermill": {
     "duration": 0.006347,
     "end_time": "2025-06-08T10:04:56.574268",
     "exception": false,
     "start_time": "2025-06-08T10:04:56.567921",
     "status": "completed"
    },
    "tags": []
   },
   "source": [
    "### 📁 Описание датафрейма df_portfolio"
   ]
  },
  {
   "cell_type": "markdown",
   "id": "9f56a30b",
   "metadata": {
    "papermill": {
     "duration": 0.006234,
     "end_time": "2025-06-08T10:04:56.587149",
     "exception": false,
     "start_time": "2025-06-08T10:04:56.580915",
     "status": "completed"
    },
    "tags": []
   },
   "source": [
    "| Столбец          | Тип             | Описание                                                    |\n",
    "| ---------------- | --------------- | ----------------------------------------------------------- |\n",
    "| `user_id`        | int             | Уникальный ID пользователя                                  |\n",
    "| `user_name`      | str             | Имя пользователя вида `user_123`                            |\n",
    "| `gender`         | str (M/F/Other) | Пол пользователя                                            |\n",
    "| `age`            | int             | Возраст                                                     |\n",
    "| `country`        | str             | Страна (UK, US, Germany, France, Spain)                     |\n",
    "| `reg_date`       | datetime        | Дата регистрации                                            |\n",
    "| `score`          | float           | Оценка пользователя по внутренней шкале (0–100)             |\n",
    "| `activity_score` | float           | Показатель активности                                       |\n",
    "| `status`         | str / NaN       | Статус активности (active, passive, sleeping или пропущено) |\n"
   ]
  },
  {
   "cell_type": "markdown",
   "id": "c33a7d00",
   "metadata": {
    "papermill": {
     "duration": 0.007608,
     "end_time": "2025-06-08T10:04:56.601270",
     "exception": false,
     "start_time": "2025-06-08T10:04:56.593662",
     "status": "completed"
    },
    "tags": []
   },
   "source": [
    "#### ✅ 1. Задания\n",
    "\n",
    "### 🔍 Базовый анализ\n",
    "\t1.\tВыведи информацию о датафрейме, проверь наличие пропущенных значений.\n",
    "\t2.\tУдали строки с отсутствующим статусом или замени их на 'unknown'.\n",
    "\t3.\tПреобразуй country и gender в категориальный тип.\n",
    "\n",
    "### 📊 Работа с данными\n",
    "\t4.\tПострой boxplot для score по странам.\n",
    "\t5.\tПострой гистограмму распределения activity_score с KDE.\n",
    "\t6.\tПроверь наличие выбросов в score с помощью метода IQR. Сколько выбросов ты нашел?\n",
    "\n",
    "### 🧹 Фильтрация и логика\n",
    "\t7.\tВыбери пользователей старше 50 лет из UK с score выше среднего.\n",
    "\t8.\tДобавь колонку score_level: 'low' если < 65, 'medium' от 65 до 85, 'high' > 85.\n",
    "\t9.\tСколько пользователей в каждой группе score_level?\n",
    "\n",
    "### 🔠 Работа со строками\n",
    "\t10.\tВыдели номер пользователя из user_name и создай отдельный столбец user_number.\n",
    "\t11.\tНайди всех пользователей, чье имя содержит чётное число (user_number делится на 2 без остатка).\n",
    "\n",
    "### 🗓 Работа с датами\n",
    "\t12.\tПреобразуй reg_date в тип datetime, если еще не сделано.\n",
    "\t13.\tПострой график изменения среднего score по неделям регистрации.\n",
    "\t14.\tСколько пользователей зарегистрировались в феврале 2024?\n",
    "\n",
    "### 📈 Группировка и агрегирование\n",
    "\t15.\tПострой таблицу со средним и медианным score по каждой стране.\n",
    "\t16.\tПострой barplot суммарного activity_score по странам.\n",
    "\n",
    "### 📐 Корреляция и статистика\n",
    "\t17.\tПострой корреляционную матрицу между score и activity_score. Есть ли связь?\n",
    "\t18.\tПроверь распределение score по странам на нормальность (Shapiro-Wilk).\n",
    "\t19.\tПроверь гомогенность дисперсий (Levene).\n",
    "\t20.\tПроведи ANOVA или Kruskal–Wallis тест для score по странам.\n",
    "\n",
    "### 🔁 Регрессия\n",
    "\t21.\tПострой линейную регрессию: score ~ activity_score.\n",
    "\t22.\tВыведи R² и MSE. Как ты оцениваешь модель?\n",
    "\n",
    "⸻\n",
    "\n",
    "### 🎯 23. Финальное аналитическое задание\n",
    "\n",
    "    Сделай краткий аналитический вывод:\n",
    "\t•\tКакую страну можно считать самой “эффективной” по среднему score?\n",
    "\t•\tЕсть ли статистически значимые различия в показателях между странами?\n",
    "\t•\tКак activity_score влияет на score?\n",
    "\t•\tЧто ты бы рекомендовал на основе этих данных?"
   ]
  },
  {
   "cell_type": "markdown",
   "id": "6305431e",
   "metadata": {
    "execution": {
     "iopub.execute_input": "2025-06-07T21:12:48.510307Z",
     "iopub.status.busy": "2025-06-07T21:12:48.509904Z",
     "iopub.status.idle": "2025-06-07T21:12:48.516118Z",
     "shell.execute_reply": "2025-06-07T21:12:48.514946Z",
     "shell.execute_reply.started": "2025-06-07T21:12:48.510283Z"
    },
    "papermill": {
     "duration": 0.006569,
     "end_time": "2025-06-08T10:04:56.616525",
     "exception": false,
     "start_time": "2025-06-08T10:04:56.609956",
     "status": "completed"
    },
    "tags": []
   },
   "source": [
    "### 🔍 Базовый анализ\n",
    "\t1.\tВыведи информацию о датафрейме, проверь наличие пропущенных значений.\n",
    "\t2.\tУдали строки с отсутствующим статусом или замени их на 'unknown'.\n",
    "\t3.\tПреобразуй country и gender в категориальный тип."
   ]
  },
  {
   "cell_type": "code",
   "execution_count": 3,
   "id": "ec4e1574",
   "metadata": {
    "execution": {
     "iopub.execute_input": "2025-06-08T10:04:56.631105Z",
     "iopub.status.busy": "2025-06-08T10:04:56.630195Z",
     "iopub.status.idle": "2025-06-08T10:04:56.652419Z",
     "shell.execute_reply": "2025-06-08T10:04:56.651306Z"
    },
    "papermill": {
     "duration": 0.031085,
     "end_time": "2025-06-08T10:04:56.654032",
     "exception": false,
     "start_time": "2025-06-08T10:04:56.622947",
     "status": "completed"
    },
    "tags": []
   },
   "outputs": [
    {
     "name": "stdout",
     "output_type": "stream",
     "text": [
      "<class 'pandas.core.frame.DataFrame'>\n",
      "RangeIndex: 200 entries, 0 to 199\n",
      "Data columns (total 9 columns):\n",
      " #   Column          Non-Null Count  Dtype         \n",
      "---  ------          --------------  -----         \n",
      " 0   user_id         200 non-null    int64         \n",
      " 1   age             200 non-null    int64         \n",
      " 2   gender          200 non-null    object        \n",
      " 3   country         200 non-null    object        \n",
      " 4   score           200 non-null    float64       \n",
      " 5   activity_score  200 non-null    float64       \n",
      " 6   status          181 non-null    object        \n",
      " 7   reg_date        200 non-null    datetime64[ns]\n",
      " 8   user_name       200 non-null    object        \n",
      "dtypes: datetime64[ns](1), float64(2), int64(2), object(4)\n",
      "memory usage: 14.2+ KB\n"
     ]
    }
   ],
   "source": [
    "# Выведи информацию о датафрейме\n",
    "df_portfolio.info()"
   ]
  },
  {
   "cell_type": "code",
   "execution_count": 4,
   "id": "ac65bb38",
   "metadata": {
    "execution": {
     "iopub.execute_input": "2025-06-08T10:04:56.669547Z",
     "iopub.status.busy": "2025-06-08T10:04:56.669192Z",
     "iopub.status.idle": "2025-06-08T10:04:56.679099Z",
     "shell.execute_reply": "2025-06-08T10:04:56.678188Z"
    },
    "papermill": {
     "duration": 0.018928,
     "end_time": "2025-06-08T10:04:56.680504",
     "exception": false,
     "start_time": "2025-06-08T10:04:56.661576",
     "status": "completed"
    },
    "tags": []
   },
   "outputs": [
    {
     "data": {
      "text/plain": [
       "user_id            0\n",
       "age                0\n",
       "gender             0\n",
       "country            0\n",
       "score              0\n",
       "activity_score     0\n",
       "status            19\n",
       "reg_date           0\n",
       "user_name          0\n",
       "dtype: int64"
      ]
     },
     "metadata": {},
     "output_type": "display_data"
    },
    {
     "name": "stdout",
     "output_type": "stream",
     "text": [
      "Столбец status содержит: 19 пропусков, что составляет 10.5% от общего числа строк\n"
     ]
    }
   ],
   "source": [
    "# Проверь наличие пропущенных значений.\n",
    "display(df_portfolio.isnull().sum())\n",
    "\n",
    "# Сделаем расчет доли и выведем результат\n",
    "shape = df_portfolio['status'].isnull().sum() *100/df_portfolio['status'].count()\n",
    "fills = df_portfolio['status'].shape[0] - df_portfolio['status'].notnull().sum()\n",
    "print(f'Столбец status содержит: {fills} пропусков, что составляет {round(shape, 2)}% от общего числа строк')\n"
   ]
  },
  {
   "cell_type": "code",
   "execution_count": 5,
   "id": "181f84f3",
   "metadata": {
    "execution": {
     "iopub.execute_input": "2025-06-08T10:04:56.695419Z",
     "iopub.status.busy": "2025-06-08T10:04:56.695036Z",
     "iopub.status.idle": "2025-06-08T10:04:56.700215Z",
     "shell.execute_reply": "2025-06-08T10:04:56.699433Z"
    },
    "papermill": {
     "duration": 0.014437,
     "end_time": "2025-06-08T10:04:56.701706",
     "exception": false,
     "start_time": "2025-06-08T10:04:56.687269",
     "status": "completed"
    },
    "tags": []
   },
   "outputs": [],
   "source": [
    "# Заменим найденые пропуски в столбце status на unknown\n",
    "df_portfolio['status'] = df_portfolio['status'].fillna('unknown')"
   ]
  },
  {
   "cell_type": "code",
   "execution_count": 6,
   "id": "fcee50ed",
   "metadata": {
    "execution": {
     "iopub.execute_input": "2025-06-08T10:04:56.716918Z",
     "iopub.status.busy": "2025-06-08T10:04:56.716262Z",
     "iopub.status.idle": "2025-06-08T10:04:56.728634Z",
     "shell.execute_reply": "2025-06-08T10:04:56.727788Z"
    },
    "papermill": {
     "duration": 0.021307,
     "end_time": "2025-06-08T10:04:56.729917",
     "exception": false,
     "start_time": "2025-06-08T10:04:56.708610",
     "status": "completed"
    },
    "tags": []
   },
   "outputs": [
    {
     "data": {
      "text/plain": [
       "user_id                    int64\n",
       "age                        int64\n",
       "gender                  category\n",
       "country                 category\n",
       "score                    float64\n",
       "activity_score           float64\n",
       "status                    object\n",
       "reg_date          datetime64[ns]\n",
       "user_name                 object\n",
       "dtype: object"
      ]
     },
     "execution_count": 6,
     "metadata": {},
     "output_type": "execute_result"
    }
   ],
   "source": [
    "# Преобразуй country и gender в категориальный тип.\n",
    "df_portfolio[['country', 'gender']] = df_portfolio[['country', 'gender']].astype('category')\n",
    "\n",
    "# Выводим типы столбцов\n",
    "df_portfolio.dtypes"
   ]
  },
  {
   "cell_type": "markdown",
   "id": "8f00b703",
   "metadata": {
    "papermill": {
     "duration": 0.006572,
     "end_time": "2025-06-08T10:04:56.743444",
     "exception": false,
     "start_time": "2025-06-08T10:04:56.736872",
     "status": "completed"
    },
    "tags": []
   },
   "source": [
    "### 📊 Работа с данными\n",
    "\t4.\tПострой boxplot для score по странам.\n",
    "\t5.\tПострой гистограмму распределения activity_score с KDE.\n",
    "\t6.\tПроверь наличие выбросов в score с помощью метода IQR. Сколько выбросов ты нашел?"
   ]
  },
  {
   "cell_type": "code",
   "execution_count": 7,
   "id": "0a2c414a",
   "metadata": {
    "execution": {
     "iopub.execute_input": "2025-06-08T10:04:56.758159Z",
     "iopub.status.busy": "2025-06-08T10:04:56.757850Z",
     "iopub.status.idle": "2025-06-08T10:04:57.028907Z",
     "shell.execute_reply": "2025-06-08T10:04:57.027841Z"
    },
    "papermill": {
     "duration": 0.280465,
     "end_time": "2025-06-08T10:04:57.030623",
     "exception": false,
     "start_time": "2025-06-08T10:04:56.750158",
     "status": "completed"
    },
    "tags": []
   },
   "outputs": [
    {
     "name": "stderr",
     "output_type": "stream",
     "text": [
      "/usr/local/lib/python3.11/dist-packages/seaborn/categorical.py:641: FutureWarning: The default of observed=False is deprecated and will be changed to True in a future version of pandas. Pass observed=False to retain current behavior or observed=True to adopt the future default and silence this warning.\n",
      "  grouped_vals = vals.groupby(grouper)\n"
     ]
    },
    {
     "data": {
      "text/plain": [
       "<Axes: xlabel='country', ylabel='score'>"
      ]
     },
     "execution_count": 7,
     "metadata": {},
     "output_type": "execute_result"
    },
    {
     "data": {
      "image/png": "[encoded data removed]",
      "text/plain": [
       "<Figure size 640x480 with 1 Axes>"
      ]
     },
     "metadata": {},
     "output_type": "display_data"
    }
   ],
   "source": [
    "# Построй boxplot для score по странам.\n",
    "sns.boxplot(x='country', y='score', data = df_portfolio)"
   ]
  },
  {
   "cell_type": "code",
   "execution_count": 8,
   "id": "5eef4366",
   "metadata": {
    "execution": {
     "iopub.execute_input": "2025-06-08T10:04:57.046921Z",
     "iopub.status.busy": "2025-06-08T10:04:57.046597Z",
     "iopub.status.idle": "2025-06-08T10:04:57.307341Z",
     "shell.execute_reply": "2025-06-08T10:04:57.306311Z"
    },
    "papermill": {
     "duration": 0.270581,
     "end_time": "2025-06-08T10:04:57.308796",
     "exception": false,
     "start_time": "2025-06-08T10:04:57.038215",
     "status": "completed"
    },
    "tags": []
   },
   "outputs": [
    {
     "name": "stderr",
     "output_type": "stream",
     "text": [
      "/usr/local/lib/python3.11/dist-packages/seaborn/_oldcore.py:1119: FutureWarning: use_inf_as_na option is deprecated and will be removed in a future version. Convert inf values to NaN before operating instead.\n",
      "  with pd.option_context('mode.use_inf_as_na', True):\n"
     ]
    },
    {
     "data": {
      "image/png": "[encoded data removed]",
      "text/plain": [
       "<Figure size 640x480 with 1 Axes>"
      ]
     },
     "metadata": {},
     "output_type": "display_data"
    }
   ],
   "source": [
    "# Построй гистограмму распределения activity_score с KDE.\n",
    "sns.histplot(data = df_portfolio, x='activity_score',bins=9, kde=True)\n",
    "plt.title('Гистограмма распределения activity_score')\n",
    "plt.show()"
   ]
  },
  {
   "cell_type": "code",
   "execution_count": 9,
   "id": "1ca36cfa",
   "metadata": {
    "execution": {
     "iopub.execute_input": "2025-06-08T10:04:57.326955Z",
     "iopub.status.busy": "2025-06-08T10:04:57.326638Z",
     "iopub.status.idle": "2025-06-08T10:04:57.335406Z",
     "shell.execute_reply": "2025-06-08T10:04:57.334442Z"
    },
    "papermill": {
     "duration": 0.019324,
     "end_time": "2025-06-08T10:04:57.336910",
     "exception": false,
     "start_time": "2025-06-08T10:04:57.317586",
     "status": "completed"
    },
    "tags": []
   },
   "outputs": [
    {
     "name": "stdout",
     "output_type": "stream",
     "text": [
      "Найдено выбросов: 1\n"
     ]
    }
   ],
   "source": [
    "# Проверь наличие выбросов в score с помощью метода IQR.\n",
    "Q1 = df_portfolio['score'].quantile(0.25)\n",
    "Q3 = df_portfolio['score'].quantile(0.75)\n",
    "\n",
    "IQR = Q3 - Q1\n",
    "low = Q1 - 1.5 * IQR\n",
    "up = Q3 + 1.5 * IQR\n",
    "out = (df_portfolio['score'] < low) | (df_portfolio['score'] > up)\n",
    "print(f'Найдено выбросов: {out.sum()}')"
   ]
  },
  {
   "cell_type": "markdown",
   "id": "ef09f455",
   "metadata": {
    "papermill": {
     "duration": 0.007861,
     "end_time": "2025-06-08T10:04:57.353306",
     "exception": false,
     "start_time": "2025-06-08T10:04:57.345445",
     "status": "completed"
    },
    "tags": []
   },
   "source": [
    "### Фильтрация и логика\n",
    "\t7.\tВыбери пользователей старше 50 лет из UK с score выше среднего.\n",
    "\t8.\tДобавь колонку score_level: 'low' если < 65, 'medium' от 65 до 85, 'high' > 85.\n",
    "\t9.\tСколько пользователей в каждой группе score_level?"
   ]
  },
  {
   "cell_type": "code",
   "execution_count": 10,
   "id": "4c3312d6",
   "metadata": {
    "execution": {
     "iopub.execute_input": "2025-06-08T10:04:57.370705Z",
     "iopub.status.busy": "2025-06-08T10:04:57.370345Z",
     "iopub.status.idle": "2025-06-08T10:04:57.389660Z",
     "shell.execute_reply": "2025-06-08T10:04:57.388726Z"
    },
    "papermill": {
     "duration": 0.029979,
     "end_time": "2025-06-08T10:04:57.391311",
     "exception": false,
     "start_time": "2025-06-08T10:04:57.361332",
     "status": "completed"
    },
    "tags": []
   },
   "outputs": [
    {
     "data": {
      "text/html": [
       "<div>\n",
       "<style scoped>\n",
       "    .dataframe tbody tr th:only-of-type {\n",
       "        vertical-align: middle;\n",
       "    }\n",
       "\n",
       "    .dataframe tbody tr th {\n",
       "        vertical-align: top;\n",
       "    }\n",
       "\n",
       "    .dataframe thead th {\n",
       "        text-align: right;\n",
       "    }\n",
       "</style>\n",
       "<table border=\"1\" class=\"dataframe\">\n",
       "  <thead>\n",
       "    <tr style=\"text-align: right;\">\n",
       "      <th></th>\n",
       "      <th>user_id</th>\n",
       "      <th>age</th>\n",
       "      <th>gender</th>\n",
       "      <th>country</th>\n",
       "      <th>score</th>\n",
       "      <th>activity_score</th>\n",
       "      <th>status</th>\n",
       "      <th>reg_date</th>\n",
       "      <th>user_name</th>\n",
       "    </tr>\n",
       "  </thead>\n",
       "  <tbody>\n",
       "    <tr>\n",
       "      <th>21</th>\n",
       "      <td>22</td>\n",
       "      <td>55</td>\n",
       "      <td>Female</td>\n",
       "      <td>UK</td>\n",
       "      <td>80.0</td>\n",
       "      <td>84.5</td>\n",
       "      <td>inactive</td>\n",
       "      <td>2024-05-25</td>\n",
       "      <td>User_22</td>\n",
       "    </tr>\n",
       "    <tr>\n",
       "      <th>35</th>\n",
       "      <td>36</td>\n",
       "      <td>61</td>\n",
       "      <td>Male</td>\n",
       "      <td>UK</td>\n",
       "      <td>85.7</td>\n",
       "      <td>85.7</td>\n",
       "      <td>active</td>\n",
       "      <td>2024-03-28</td>\n",
       "      <td>User_36</td>\n",
       "    </tr>\n",
       "    <tr>\n",
       "      <th>51</th>\n",
       "      <td>52</td>\n",
       "      <td>64</td>\n",
       "      <td>Male</td>\n",
       "      <td>UK</td>\n",
       "      <td>82.6</td>\n",
       "      <td>45.7</td>\n",
       "      <td>inactive</td>\n",
       "      <td>2024-02-26</td>\n",
       "      <td>User_52</td>\n",
       "    </tr>\n",
       "    <tr>\n",
       "      <th>72</th>\n",
       "      <td>73</td>\n",
       "      <td>53</td>\n",
       "      <td>Female</td>\n",
       "      <td>UK</td>\n",
       "      <td>79.6</td>\n",
       "      <td>36.4</td>\n",
       "      <td>active</td>\n",
       "      <td>2024-03-29</td>\n",
       "      <td>User_73</td>\n",
       "    </tr>\n",
       "    <tr>\n",
       "      <th>129</th>\n",
       "      <td>130</td>\n",
       "      <td>52</td>\n",
       "      <td>Female</td>\n",
       "      <td>UK</td>\n",
       "      <td>76.2</td>\n",
       "      <td>81.8</td>\n",
       "      <td>inactive</td>\n",
       "      <td>2024-02-27</td>\n",
       "      <td>User_130</td>\n",
       "    </tr>\n",
       "    <tr>\n",
       "      <th>138</th>\n",
       "      <td>139</td>\n",
       "      <td>56</td>\n",
       "      <td>Female</td>\n",
       "      <td>UK</td>\n",
       "      <td>87.1</td>\n",
       "      <td>38.2</td>\n",
       "      <td>active</td>\n",
       "      <td>2024-03-17</td>\n",
       "      <td>User_139</td>\n",
       "    </tr>\n",
       "    <tr>\n",
       "      <th>147</th>\n",
       "      <td>148</td>\n",
       "      <td>56</td>\n",
       "      <td>Female</td>\n",
       "      <td>UK</td>\n",
       "      <td>95.3</td>\n",
       "      <td>67.4</td>\n",
       "      <td>inactive</td>\n",
       "      <td>2024-03-28</td>\n",
       "      <td>User_148</td>\n",
       "    </tr>\n",
       "    <tr>\n",
       "      <th>151</th>\n",
       "      <td>152</td>\n",
       "      <td>54</td>\n",
       "      <td>Female</td>\n",
       "      <td>UK</td>\n",
       "      <td>80.6</td>\n",
       "      <td>21.8</td>\n",
       "      <td>active</td>\n",
       "      <td>2024-03-03</td>\n",
       "      <td>User_152</td>\n",
       "    </tr>\n",
       "    <tr>\n",
       "      <th>192</th>\n",
       "      <td>193</td>\n",
       "      <td>61</td>\n",
       "      <td>Male</td>\n",
       "      <td>UK</td>\n",
       "      <td>86.9</td>\n",
       "      <td>37.0</td>\n",
       "      <td>active</td>\n",
       "      <td>2024-03-24</td>\n",
       "      <td>User_193</td>\n",
       "    </tr>\n",
       "  </tbody>\n",
       "</table>\n",
       "</div>"
      ],
      "text/plain": [
       "     user_id  age  gender country  score  activity_score    status   reg_date  \\\n",
       "21        22   55  Female      UK   80.0            84.5  inactive 2024-05-25   \n",
       "35        36   61    Male      UK   85.7            85.7    active 2024-03-28   \n",
       "51        52   64    Male      UK   82.6            45.7  inactive 2024-02-26   \n",
       "72        73   53  Female      UK   79.6            36.4    active 2024-03-29   \n",
       "129      130   52  Female      UK   76.2            81.8  inactive 2024-02-27   \n",
       "138      139   56  Female      UK   87.1            38.2    active 2024-03-17   \n",
       "147      148   56  Female      UK   95.3            67.4  inactive 2024-03-28   \n",
       "151      152   54  Female      UK   80.6            21.8    active 2024-03-03   \n",
       "192      193   61    Male      UK   86.9            37.0    active 2024-03-24   \n",
       "\n",
       "    user_name  \n",
       "21    User_22  \n",
       "35    User_36  \n",
       "51    User_52  \n",
       "72    User_73  \n",
       "129  User_130  \n",
       "138  User_139  \n",
       "147  User_148  \n",
       "151  User_152  \n",
       "192  User_193  "
      ]
     },
     "execution_count": 10,
     "metadata": {},
     "output_type": "execute_result"
    }
   ],
   "source": [
    "# Выбери пользователей старше 50 лет из UK с score выше среднего.\n",
    "mean_score = df_portfolio['score'].mean()\n",
    "\n",
    "df_portfolio[(df_portfolio['age'] > 50) & (df_portfolio['country'] == 'UK') & (df_portfolio['score'] > mean_score)]"
   ]
  },
  {
   "cell_type": "code",
   "execution_count": 11,
   "id": "bad682c1",
   "metadata": {
    "execution": {
     "iopub.execute_input": "2025-06-08T10:04:57.409713Z",
     "iopub.status.busy": "2025-06-08T10:04:57.409392Z",
     "iopub.status.idle": "2025-06-08T10:04:57.415876Z",
     "shell.execute_reply": "2025-06-08T10:04:57.414697Z"
    },
    "papermill": {
     "duration": 0.017365,
     "end_time": "2025-06-08T10:04:57.417446",
     "exception": false,
     "start_time": "2025-06-08T10:04:57.400081",
     "status": "completed"
    },
    "tags": []
   },
   "outputs": [],
   "source": [
    "# Добавь колонку score_level: 'low' если < 65, 'medium' от 65 до 85, 'high' > 85.\n",
    "df_portfolio['score_level'] = df_portfolio['score'].apply(lambda x: 'low' if x < 65 else ('medium' if x < 85 else 'high'))"
   ]
  },
  {
   "cell_type": "code",
   "execution_count": 12,
   "id": "4c24451b",
   "metadata": {
    "execution": {
     "iopub.execute_input": "2025-06-08T10:04:57.435836Z",
     "iopub.status.busy": "2025-06-08T10:04:57.435535Z",
     "iopub.status.idle": "2025-06-08T10:04:57.444347Z",
     "shell.execute_reply": "2025-06-08T10:04:57.443190Z"
    },
    "papermill": {
     "duration": 0.019774,
     "end_time": "2025-06-08T10:04:57.445964",
     "exception": false,
     "start_time": "2025-06-08T10:04:57.426190",
     "status": "completed"
    },
    "tags": []
   },
   "outputs": [
    {
     "data": {
      "text/plain": [
       "score_level\n",
       "high       30\n",
       "low        36\n",
       "medium    134\n",
       "Name: user_id, dtype: int64"
      ]
     },
     "execution_count": 12,
     "metadata": {},
     "output_type": "execute_result"
    }
   ],
   "source": [
    "# Сколько пользователей в каждой группе score_level?\n",
    "df_portfolio.groupby('score_level')['user_id'].count()"
   ]
  },
  {
   "cell_type": "markdown",
   "id": "51f3c067",
   "metadata": {
    "papermill": {
     "duration": 0.008014,
     "end_time": "2025-06-08T10:04:57.462599",
     "exception": false,
     "start_time": "2025-06-08T10:04:57.454585",
     "status": "completed"
    },
    "tags": []
   },
   "source": [
    "### 🔠 Работа со строками\n",
    "\t10.\tВыдели номер пользователя из user_name и создай отдельный столбец user_number.\n",
    "\t11.\tНайди всех пользователей, чье имя содержит чётное число (user_number делится на 2 без остатка).\n"
   ]
  },
  {
   "cell_type": "code",
   "execution_count": 13,
   "id": "fbd00cce",
   "metadata": {
    "execution": {
     "iopub.execute_input": "2025-06-08T10:04:57.480449Z",
     "iopub.status.busy": "2025-06-08T10:04:57.480089Z",
     "iopub.status.idle": "2025-06-08T10:04:57.487647Z",
     "shell.execute_reply": "2025-06-08T10:04:57.486509Z"
    },
    "papermill": {
     "duration": 0.018224,
     "end_time": "2025-06-08T10:04:57.489084",
     "exception": false,
     "start_time": "2025-06-08T10:04:57.470860",
     "status": "completed"
    },
    "tags": []
   },
   "outputs": [],
   "source": [
    "# Выдели номер пользователя из user_name и создай отдельный столбец user_number.\n",
    "\n",
    "df_portfolio['user_number'] = df_portfolio['user_name'].str.split('_')\n",
    "df_portfolio['user_number'] = df_portfolio['user_number'].str[1]"
   ]
  },
  {
   "cell_type": "code",
   "execution_count": 14,
   "id": "c3f39290",
   "metadata": {
    "execution": {
     "iopub.execute_input": "2025-06-08T10:04:57.507184Z",
     "iopub.status.busy": "2025-06-08T10:04:57.506808Z",
     "iopub.status.idle": "2025-06-08T10:04:57.511995Z",
     "shell.execute_reply": "2025-06-08T10:04:57.511109Z"
    },
    "papermill": {
     "duration": 0.016157,
     "end_time": "2025-06-08T10:04:57.513689",
     "exception": false,
     "start_time": "2025-06-08T10:04:57.497532",
     "status": "completed"
    },
    "tags": []
   },
   "outputs": [],
   "source": [
    "# Изменим тип столбца user_number на int\n",
    "df_portfolio['user_number'] = df_portfolio['user_number'].astype('int')"
   ]
  },
  {
   "cell_type": "code",
   "execution_count": 15,
   "id": "67ce05f3",
   "metadata": {
    "execution": {
     "iopub.execute_input": "2025-06-08T10:04:57.532033Z",
     "iopub.status.busy": "2025-06-08T10:04:57.531658Z",
     "iopub.status.idle": "2025-06-08T10:04:57.549211Z",
     "shell.execute_reply": "2025-06-08T10:04:57.548366Z"
    },
    "papermill": {
     "duration": 0.028237,
     "end_time": "2025-06-08T10:04:57.550731",
     "exception": false,
     "start_time": "2025-06-08T10:04:57.522494",
     "status": "completed"
    },
    "tags": []
   },
   "outputs": [
    {
     "data": {
      "text/html": [
       "<div>\n",
       "<style scoped>\n",
       "    .dataframe tbody tr th:only-of-type {\n",
       "        vertical-align: middle;\n",
       "    }\n",
       "\n",
       "    .dataframe tbody tr th {\n",
       "        vertical-align: top;\n",
       "    }\n",
       "\n",
       "    .dataframe thead th {\n",
       "        text-align: right;\n",
       "    }\n",
       "</style>\n",
       "<table border=\"1\" class=\"dataframe\">\n",
       "  <thead>\n",
       "    <tr style=\"text-align: right;\">\n",
       "      <th></th>\n",
       "      <th>user_id</th>\n",
       "      <th>age</th>\n",
       "      <th>gender</th>\n",
       "      <th>country</th>\n",
       "      <th>score</th>\n",
       "      <th>activity_score</th>\n",
       "      <th>status</th>\n",
       "      <th>reg_date</th>\n",
       "      <th>user_name</th>\n",
       "      <th>score_level</th>\n",
       "      <th>user_number</th>\n",
       "    </tr>\n",
       "  </thead>\n",
       "  <tbody>\n",
       "    <tr>\n",
       "      <th>1</th>\n",
       "      <td>2</td>\n",
       "      <td>46</td>\n",
       "      <td>Male</td>\n",
       "      <td>France</td>\n",
       "      <td>82.9</td>\n",
       "      <td>58.4</td>\n",
       "      <td>active</td>\n",
       "      <td>2024-01-13</td>\n",
       "      <td>User_2</td>\n",
       "      <td>medium</td>\n",
       "      <td>2</td>\n",
       "    </tr>\n",
       "    <tr>\n",
       "      <th>3</th>\n",
       "      <td>4</td>\n",
       "      <td>60</td>\n",
       "      <td>Male</td>\n",
       "      <td>Canada</td>\n",
       "      <td>52.5</td>\n",
       "      <td>78.9</td>\n",
       "      <td>active</td>\n",
       "      <td>2024-01-18</td>\n",
       "      <td>User_4</td>\n",
       "      <td>low</td>\n",
       "      <td>4</td>\n",
       "    </tr>\n",
       "    <tr>\n",
       "      <th>5</th>\n",
       "      <td>6</td>\n",
       "      <td>38</td>\n",
       "      <td>Male</td>\n",
       "      <td>France</td>\n",
       "      <td>74.2</td>\n",
       "      <td>66.9</td>\n",
       "      <td>active</td>\n",
       "      <td>2024-05-02</td>\n",
       "      <td>User_6</td>\n",
       "      <td>medium</td>\n",
       "      <td>6</td>\n",
       "    </tr>\n",
       "    <tr>\n",
       "      <th>7</th>\n",
       "      <td>8</td>\n",
       "      <td>36</td>\n",
       "      <td>Female</td>\n",
       "      <td>USA</td>\n",
       "      <td>72.0</td>\n",
       "      <td>50.3</td>\n",
       "      <td>inactive</td>\n",
       "      <td>2024-02-15</td>\n",
       "      <td>User_8</td>\n",
       "      <td>medium</td>\n",
       "      <td>8</td>\n",
       "    </tr>\n",
       "    <tr>\n",
       "      <th>9</th>\n",
       "      <td>10</td>\n",
       "      <td>28</td>\n",
       "      <td>Male</td>\n",
       "      <td>UK</td>\n",
       "      <td>84.8</td>\n",
       "      <td>92.0</td>\n",
       "      <td>inactive</td>\n",
       "      <td>2024-03-02</td>\n",
       "      <td>User_10</td>\n",
       "      <td>medium</td>\n",
       "      <td>10</td>\n",
       "    </tr>\n",
       "    <tr>\n",
       "      <th>...</th>\n",
       "      <td>...</td>\n",
       "      <td>...</td>\n",
       "      <td>...</td>\n",
       "      <td>...</td>\n",
       "      <td>...</td>\n",
       "      <td>...</td>\n",
       "      <td>...</td>\n",
       "      <td>...</td>\n",
       "      <td>...</td>\n",
       "      <td>...</td>\n",
       "      <td>...</td>\n",
       "    </tr>\n",
       "    <tr>\n",
       "      <th>191</th>\n",
       "      <td>192</td>\n",
       "      <td>59</td>\n",
       "      <td>Female</td>\n",
       "      <td>USA</td>\n",
       "      <td>80.8</td>\n",
       "      <td>37.6</td>\n",
       "      <td>inactive</td>\n",
       "      <td>2024-05-09</td>\n",
       "      <td>User_192</td>\n",
       "      <td>medium</td>\n",
       "      <td>192</td>\n",
       "    </tr>\n",
       "    <tr>\n",
       "      <th>193</th>\n",
       "      <td>194</td>\n",
       "      <td>41</td>\n",
       "      <td>Female</td>\n",
       "      <td>Canada</td>\n",
       "      <td>77.2</td>\n",
       "      <td>61.2</td>\n",
       "      <td>inactive</td>\n",
       "      <td>2024-01-22</td>\n",
       "      <td>User_194</td>\n",
       "      <td>medium</td>\n",
       "      <td>194</td>\n",
       "    </tr>\n",
       "    <tr>\n",
       "      <th>195</th>\n",
       "      <td>196</td>\n",
       "      <td>49</td>\n",
       "      <td>Female</td>\n",
       "      <td>USA</td>\n",
       "      <td>66.2</td>\n",
       "      <td>56.7</td>\n",
       "      <td>active</td>\n",
       "      <td>2024-03-21</td>\n",
       "      <td>User_196</td>\n",
       "      <td>medium</td>\n",
       "      <td>196</td>\n",
       "    </tr>\n",
       "    <tr>\n",
       "      <th>197</th>\n",
       "      <td>198</td>\n",
       "      <td>41</td>\n",
       "      <td>Female</td>\n",
       "      <td>Canada</td>\n",
       "      <td>63.1</td>\n",
       "      <td>88.9</td>\n",
       "      <td>inactive</td>\n",
       "      <td>2024-04-01</td>\n",
       "      <td>User_198</td>\n",
       "      <td>low</td>\n",
       "      <td>198</td>\n",
       "    </tr>\n",
       "    <tr>\n",
       "      <th>199</th>\n",
       "      <td>200</td>\n",
       "      <td>29</td>\n",
       "      <td>Female</td>\n",
       "      <td>France</td>\n",
       "      <td>71.1</td>\n",
       "      <td>34.8</td>\n",
       "      <td>active</td>\n",
       "      <td>2024-02-16</td>\n",
       "      <td>User_200</td>\n",
       "      <td>medium</td>\n",
       "      <td>200</td>\n",
       "    </tr>\n",
       "  </tbody>\n",
       "</table>\n",
       "<p>100 rows × 11 columns</p>\n",
       "</div>"
      ],
      "text/plain": [
       "     user_id  age  gender country  score  activity_score    status   reg_date  \\\n",
       "1          2   46    Male  France   82.9            58.4    active 2024-01-13   \n",
       "3          4   60    Male  Canada   52.5            78.9    active 2024-01-18   \n",
       "5          6   38    Male  France   74.2            66.9    active 2024-05-02   \n",
       "7          8   36  Female     USA   72.0            50.3  inactive 2024-02-15   \n",
       "9         10   28    Male      UK   84.8            92.0  inactive 2024-03-02   \n",
       "..       ...  ...     ...     ...    ...             ...       ...        ...   \n",
       "191      192   59  Female     USA   80.8            37.6  inactive 2024-05-09   \n",
       "193      194   41  Female  Canada   77.2            61.2  inactive 2024-01-22   \n",
       "195      196   49  Female     USA   66.2            56.7    active 2024-03-21   \n",
       "197      198   41  Female  Canada   63.1            88.9  inactive 2024-04-01   \n",
       "199      200   29  Female  France   71.1            34.8    active 2024-02-16   \n",
       "\n",
       "    user_name score_level  user_number  \n",
       "1      User_2      medium            2  \n",
       "3      User_4         low            4  \n",
       "5      User_6      medium            6  \n",
       "7      User_8      medium            8  \n",
       "9     User_10      medium           10  \n",
       "..        ...         ...          ...  \n",
       "191  User_192      medium          192  \n",
       "193  User_194      medium          194  \n",
       "195  User_196      medium          196  \n",
       "197  User_198         low          198  \n",
       "199  User_200      medium          200  \n",
       "\n",
       "[100 rows x 11 columns]"
      ]
     },
     "execution_count": 15,
     "metadata": {},
     "output_type": "execute_result"
    }
   ],
   "source": [
    "# Найди всех пользователей, чье имя содержит чётное число (user_number делится на 2 без остатка).\n",
    "df_portfolio[df_portfolio['user_number'] %2 == 0]"
   ]
  },
  {
   "cell_type": "markdown",
   "id": "d8f7025c",
   "metadata": {
    "papermill": {
     "duration": 0.008287,
     "end_time": "2025-06-08T10:04:57.568025",
     "exception": false,
     "start_time": "2025-06-08T10:04:57.559738",
     "status": "completed"
    },
    "tags": []
   },
   "source": [
    "### 🗓 Работа с датами\n",
    "\t12.\tПреобразуй reg_date в тип datetime, если еще не сделано.\n",
    "\t13.\tПострой график изменения среднего score по неделям регистрации.\n",
    "\t14.\tСколько пользователей зарегистрировались в феврале 2024?"
   ]
  },
  {
   "cell_type": "code",
   "execution_count": 16,
   "id": "3244046b",
   "metadata": {
    "execution": {
     "iopub.execute_input": "2025-06-08T10:04:57.587081Z",
     "iopub.status.busy": "2025-06-08T10:04:57.586719Z",
     "iopub.status.idle": "2025-06-08T10:04:57.593531Z",
     "shell.execute_reply": "2025-06-08T10:04:57.592660Z"
    },
    "papermill": {
     "duration": 0.017784,
     "end_time": "2025-06-08T10:04:57.595009",
     "exception": false,
     "start_time": "2025-06-08T10:04:57.577225",
     "status": "completed"
    },
    "tags": []
   },
   "outputs": [
    {
     "data": {
      "text/plain": [
       "user_id                    int64\n",
       "age                        int64\n",
       "gender                  category\n",
       "country                 category\n",
       "score                    float64\n",
       "activity_score           float64\n",
       "status                    object\n",
       "reg_date          datetime64[ns]\n",
       "user_name                 object\n",
       "score_level               object\n",
       "user_number                int64\n",
       "dtype: object"
      ]
     },
     "execution_count": 16,
     "metadata": {},
     "output_type": "execute_result"
    }
   ],
   "source": [
    "df_portfolio.dtypes"
   ]
  },
  {
   "cell_type": "code",
   "execution_count": 17,
   "id": "75fa1db0",
   "metadata": {
    "execution": {
     "iopub.execute_input": "2025-06-08T10:04:57.614488Z",
     "iopub.status.busy": "2025-06-08T10:04:57.613747Z",
     "iopub.status.idle": "2025-06-08T10:04:58.063206Z",
     "shell.execute_reply": "2025-06-08T10:04:58.061521Z"
    },
    "papermill": {
     "duration": 0.46112,
     "end_time": "2025-06-08T10:04:58.065108",
     "exception": false,
     "start_time": "2025-06-08T10:04:57.603988",
     "status": "completed"
    },
    "tags": []
   },
   "outputs": [
    {
     "data": {
      "text/plain": [
       "<Axes: title={'center': 'График изменения среднего score по неделям регистрации'}, xlabel='week'>"
      ]
     },
     "execution_count": 17,
     "metadata": {},
     "output_type": "execute_result"
    },
    {
     "data": {
      "image/png": "[encoded data removed]",
      "text/plain": [
       "<Figure size 640x480 with 1 Axes>"
      ]
     },
     "metadata": {},
     "output_type": "display_data"
    }
   ],
   "source": [
    "# Построй график изменения среднего score по неделям регистрации.\n",
    "df_portfolio.groupby(df_portfolio['reg_date'].dt.isocalendar().week)['score'].mean().plot(kind='bar', title='График изменения среднего score по неделям регистрации')"
   ]
  },
  {
   "cell_type": "code",
   "execution_count": 18,
   "id": "6e7c6149",
   "metadata": {
    "execution": {
     "iopub.execute_input": "2025-06-08T10:04:58.087337Z",
     "iopub.status.busy": "2025-06-08T10:04:58.086961Z",
     "iopub.status.idle": "2025-06-08T10:04:58.095246Z",
     "shell.execute_reply": "2025-06-08T10:04:58.094130Z"
    },
    "papermill": {
     "duration": 0.021884,
     "end_time": "2025-06-08T10:04:58.096745",
     "exception": false,
     "start_time": "2025-06-08T10:04:58.074861",
     "status": "completed"
    },
    "tags": []
   },
   "outputs": [
    {
     "name": "stdout",
     "output_type": "stream",
     "text": [
      "В феврале 2024 года зарегистрировалось пользователей в количестве: 41 шт\n"
     ]
    }
   ],
   "source": [
    "# Сколько пользователей зарегистрировались в феврале 2024?\n",
    "user_feb = df_portfolio[(df_portfolio['reg_date'].dt.month ==2) & (df_portfolio['reg_date'].dt.year == 2024)]['user_id'].count()\n",
    "print(f'В феврале 2024 года зарегистрировалось пользователей в количестве: {user_feb} шт')"
   ]
  },
  {
   "cell_type": "markdown",
   "id": "674a1ba0",
   "metadata": {
    "papermill": {
     "duration": 0.010151,
     "end_time": "2025-06-08T10:04:58.117606",
     "exception": false,
     "start_time": "2025-06-08T10:04:58.107455",
     "status": "completed"
    },
    "tags": []
   },
   "source": [
    "### 📈 Группировка и агрегирование\n",
    "\t15.\tПострой таблицу со средним и медианным score по каждой стране.\n",
    "\t16.\tПострой barplot суммарного activity_score по странам.\n",
    "    "
   ]
  },
  {
   "cell_type": "code",
   "execution_count": 19,
   "id": "ebc17256",
   "metadata": {
    "execution": {
     "iopub.execute_input": "2025-06-08T10:04:58.206281Z",
     "iopub.status.busy": "2025-06-08T10:04:58.205973Z",
     "iopub.status.idle": "2025-06-08T10:04:58.230880Z",
     "shell.execute_reply": "2025-06-08T10:04:58.229953Z"
    },
    "papermill": {
     "duration": 0.03843,
     "end_time": "2025-06-08T10:04:58.232520",
     "exception": false,
     "start_time": "2025-06-08T10:04:58.194090",
     "status": "completed"
    },
    "tags": []
   },
   "outputs": [
    {
     "name": "stderr",
     "output_type": "stream",
     "text": [
      "/tmp/ipykernel_13/1350100633.py:2: FutureWarning: The default value of observed=False is deprecated and will change to observed=True in a future version of pandas. Specify observed=False to silence this warning and retain the current behavior\n",
      "  df_portfolio.pivot_table(index='country', values = 'score', aggfunc=['mean', 'median'])\n",
      "/tmp/ipykernel_13/1350100633.py:2: FutureWarning: The default value of observed=False is deprecated and will change to observed=True in a future version of pandas. Specify observed=False to silence this warning and retain the current behavior\n",
      "  df_portfolio.pivot_table(index='country', values = 'score', aggfunc=['mean', 'median'])\n"
     ]
    },
    {
     "data": {
      "text/html": [
       "<div>\n",
       "<style scoped>\n",
       "    .dataframe tbody tr th:only-of-type {\n",
       "        vertical-align: middle;\n",
       "    }\n",
       "\n",
       "    .dataframe tbody tr th {\n",
       "        vertical-align: top;\n",
       "    }\n",
       "\n",
       "    .dataframe thead tr th {\n",
       "        text-align: left;\n",
       "    }\n",
       "\n",
       "    .dataframe thead tr:last-of-type th {\n",
       "        text-align: right;\n",
       "    }\n",
       "</style>\n",
       "<table border=\"1\" class=\"dataframe\">\n",
       "  <thead>\n",
       "    <tr>\n",
       "      <th></th>\n",
       "      <th>mean</th>\n",
       "      <th>median</th>\n",
       "    </tr>\n",
       "    <tr>\n",
       "      <th></th>\n",
       "      <th>score</th>\n",
       "      <th>score</th>\n",
       "    </tr>\n",
       "    <tr>\n",
       "      <th>country</th>\n",
       "      <th></th>\n",
       "      <th></th>\n",
       "    </tr>\n",
       "  </thead>\n",
       "  <tbody>\n",
       "    <tr>\n",
       "      <th>Canada</th>\n",
       "      <td>73.617949</td>\n",
       "      <td>74.0</td>\n",
       "    </tr>\n",
       "    <tr>\n",
       "      <th>France</th>\n",
       "      <td>73.338298</td>\n",
       "      <td>74.2</td>\n",
       "    </tr>\n",
       "    <tr>\n",
       "      <th>Germany</th>\n",
       "      <td>73.267347</td>\n",
       "      <td>73.4</td>\n",
       "    </tr>\n",
       "    <tr>\n",
       "      <th>UK</th>\n",
       "      <td>76.225000</td>\n",
       "      <td>77.9</td>\n",
       "    </tr>\n",
       "    <tr>\n",
       "      <th>USA</th>\n",
       "      <td>75.118919</td>\n",
       "      <td>75.4</td>\n",
       "    </tr>\n",
       "  </tbody>\n",
       "</table>\n",
       "</div>"
      ],
      "text/plain": [
       "              mean median\n",
       "             score  score\n",
       "country                  \n",
       "Canada   73.617949   74.0\n",
       "France   73.338298   74.2\n",
       "Germany  73.267347   73.4\n",
       "UK       76.225000   77.9\n",
       "USA      75.118919   75.4"
      ]
     },
     "execution_count": 19,
     "metadata": {},
     "output_type": "execute_result"
    }
   ],
   "source": [
    "# Построй таблицу со средним и медианным score по каждой стране.\n",
    "df_portfolio.pivot_table(index='country', values = 'score', aggfunc=['mean', 'median'])"
   ]
  },
  {
   "cell_type": "code",
   "execution_count": 20,
   "id": "28b7fb15",
   "metadata": {
    "execution": {
     "iopub.execute_input": "2025-06-08T10:04:58.255384Z",
     "iopub.status.busy": "2025-06-08T10:04:58.255022Z",
     "iopub.status.idle": "2025-06-08T10:04:58.449540Z",
     "shell.execute_reply": "2025-06-08T10:04:58.448374Z"
    },
    "papermill": {
     "duration": 0.207739,
     "end_time": "2025-06-08T10:04:58.451304",
     "exception": false,
     "start_time": "2025-06-08T10:04:58.243565",
     "status": "completed"
    },
    "tags": []
   },
   "outputs": [
    {
     "name": "stderr",
     "output_type": "stream",
     "text": [
      "/tmp/ipykernel_13/872289472.py:2: FutureWarning: The default of observed=False is deprecated and will be changed to True in a future version of pandas. Pass observed=False to retain current behavior or observed=True to adopt the future default and silence this warning.\n",
      "  df_portfolio.groupby('country')['activity_score'].sum().plot(kind='bar', title='Количество activity_score по странам')\n"
     ]
    },
    {
     "data": {
      "text/plain": [
       "<Axes: title={'center': 'Количество activity_score по странам'}, xlabel='country'>"
      ]
     },
     "execution_count": 20,
     "metadata": {},
     "output_type": "execute_result"
    },
    {
     "data": {
      "image/png": "[encoded data removed]",
      "text/plain": [
       "<Figure size 640x480 with 1 Axes>"
      ]
     },
     "metadata": {},
     "output_type": "display_data"
    }
   ],
   "source": [
    "# Построй barplot суммарного activity_score по странам.\n",
    "df_portfolio.groupby('country')['activity_score'].sum().plot(kind='bar', title='Количество activity_score по странам')\n"
   ]
  },
  {
   "cell_type": "markdown",
   "id": "93a21c30",
   "metadata": {
    "papermill": {
     "duration": 0.010586,
     "end_time": "2025-06-08T10:04:58.473388",
     "exception": false,
     "start_time": "2025-06-08T10:04:58.462802",
     "status": "completed"
    },
    "tags": []
   },
   "source": [
    "### 📐 Корреляция и статистика\n",
    "\n",
    "  17.  Построй корреляционную матрицу между score и activity_score. Есть ли связь?\n",
    "\n",
    "  18.  Проверь распределение score по странам на нормальность (Shapiro-Wilk).\n",
    "\n",
    "  19.  Проверь гомогенность дисперсий (Levene).\n",
    "\n",
    "  20.  Проведи ANOVA или Kruskal–Wallis тест для score по странам."
   ]
  },
  {
   "cell_type": "code",
   "execution_count": 21,
   "id": "0e49f7b4",
   "metadata": {
    "execution": {
     "iopub.execute_input": "2025-06-08T10:04:58.496854Z",
     "iopub.status.busy": "2025-06-08T10:04:58.496525Z",
     "iopub.status.idle": "2025-06-08T10:04:58.693429Z",
     "shell.execute_reply": "2025-06-08T10:04:58.692546Z"
    },
    "papermill": {
     "duration": 0.210609,
     "end_time": "2025-06-08T10:04:58.695017",
     "exception": false,
     "start_time": "2025-06-08T10:04:58.484408",
     "status": "completed"
    },
    "tags": []
   },
   "outputs": [
    {
     "name": "stderr",
     "output_type": "stream",
     "text": [
      "/usr/local/lib/python3.11/dist-packages/IPython/core/pylabtools.py:151: UserWarning: Glyph 128202 (\\N{BAR CHART}) missing from current font.\n",
      "  fig.canvas.print_figure(bytes_io, **kw)\n"
     ]
    },
    {
     "data": {
      "image/png": "[encoded data removed]",
      "text/plain": [
       "<Figure size 600x400 with 2 Axes>"
      ]
     },
     "metadata": {},
     "output_type": "display_data"
    }
   ],
   "source": [
    "# Построй корреляционную матрицу между score и activity_score. Есть ли связь?\n",
    "# Тепловая карта корреляций\n",
    "numeric_cols = ['score', 'activity_score']\n",
    "plt.figure(figsize=(6, 4))\n",
    "sns.heatmap(df_portfolio[numeric_cols].corr(), annot=True, cmap='coolwarm', vmin=-1, vmax=1)\n",
    "plt.title('📊 Корреляционная матрица')\n",
    "plt.show()"
   ]
  },
  {
   "cell_type": "code",
   "execution_count": 22,
   "id": "8824a122",
   "metadata": {
    "execution": {
     "iopub.execute_input": "2025-06-08T10:04:58.720898Z",
     "iopub.status.busy": "2025-06-08T10:04:58.720234Z",
     "iopub.status.idle": "2025-06-08T10:04:58.727624Z",
     "shell.execute_reply": "2025-06-08T10:04:58.726724Z"
    },
    "papermill": {
     "duration": 0.021417,
     "end_time": "2025-06-08T10:04:58.728941",
     "exception": false,
     "start_time": "2025-06-08T10:04:58.707524",
     "status": "completed"
    },
    "tags": []
   },
   "outputs": [
    {
     "name": "stdout",
     "output_type": "stream",
     "text": [
      "📌 Корреляция score и activity_score: r = -0.019, p-value = 0.78416 → не значима\n"
     ]
    }
   ],
   "source": [
    "# Расчёт корреляций и их значимости\n",
    "\n",
    "def check_corr(x, y, label1, label2):\n",
    "    r, p = pearsonr(x, y)\n",
    "    print(f\"📌 Корреляция {label1} и {label2}: r = {r:.3f}, p-value = {p:.5f} → {'значима' if p < 0.05 else 'не значима'}\")\n",
    "\n",
    "check_corr(df_portfolio['score'], df_portfolio['activity_score'], 'score', 'activity_score')"
   ]
  },
  {
   "cell_type": "code",
   "execution_count": 23,
   "id": "a1ff2b8e",
   "metadata": {
    "execution": {
     "iopub.execute_input": "2025-06-08T10:04:58.754429Z",
     "iopub.status.busy": "2025-06-08T10:04:58.754101Z",
     "iopub.status.idle": "2025-06-08T10:04:58.769081Z",
     "shell.execute_reply": "2025-06-08T10:04:58.767762Z"
    },
    "papermill": {
     "duration": 0.029612,
     "end_time": "2025-06-08T10:04:58.770588",
     "exception": false,
     "start_time": "2025-06-08T10:04:58.740976",
     "status": "completed"
    },
    "tags": []
   },
   "outputs": [
    {
     "name": "stdout",
     "output_type": "stream",
     "text": [
      "🧪 Проверка нормальности распределения (Shapiro–Wilk):\n",
      "France: p-value = 0.07804 → нормальное распределение\n",
      "UK: p-value = 0.54855 → нормальное распределение\n",
      "Canada: p-value = 0.65078 → нормальное распределение\n",
      "USA: p-value = 0.53364 → нормальное распределение\n",
      "Germany: p-value = 0.98996 → нормальное распределение\n"
     ]
    }
   ],
   "source": [
    "# Проверь распределение score по странам на нормальность (Shapiro-Wilk).\n",
    "\n",
    "print(\"🧪 Проверка нормальности распределения (Shapiro–Wilk):\")\n",
    "normal_flags = []\n",
    "for country in df_portfolio['country'].unique():\n",
    "    stat, p = shapiro(df_portfolio[df_portfolio['country'] == country]['score'])\n",
    "    is_normal = p > 0.05\n",
    "    normal_flags.append(is_normal)\n",
    "    print(f\"{country}: p-value = {p:.5f} → {'нормальное распределение' if is_normal else 'ненормальное распределение'}\")"
   ]
  },
  {
   "cell_type": "code",
   "execution_count": 24,
   "id": "3309dca5",
   "metadata": {
    "execution": {
     "iopub.execute_input": "2025-06-08T10:04:58.796457Z",
     "iopub.status.busy": "2025-06-08T10:04:58.796089Z",
     "iopub.status.idle": "2025-06-08T10:04:58.811561Z",
     "shell.execute_reply": "2025-06-08T10:04:58.810576Z"
    },
    "papermill": {
     "duration": 0.03055,
     "end_time": "2025-06-08T10:04:58.813381",
     "exception": false,
     "start_time": "2025-06-08T10:04:58.782831",
     "status": "completed"
    },
    "tags": []
   },
   "outputs": [
    {
     "name": "stdout",
     "output_type": "stream",
     "text": [
      "\n",
      "📊 Проверка гомогенности дисперсий (Levene test):\n",
      "Levene test: p-value = 0.24648 → дисперсии можно считать равными\n"
     ]
    }
   ],
   "source": [
    "# Проверь гомогенность дисперсий (Levene)\n",
    "\n",
    "print(\"\\n📊 Проверка гомогенности дисперсий (Levene test):\")\n",
    "grouped = [df_portfolio[df_portfolio['country'] == c]['score'] for c in df_portfolio['country'].unique()]\n",
    "stat_lev, p_lev = levene(*grouped)\n",
    "equal_var = p_lev > 0.05\n",
    "print(f\"Levene test: p-value = {p_lev:.5f} → {'дисперсии можно считать равными' if equal_var else 'дисперсии можно считать не равными'}\")"
   ]
  },
  {
   "cell_type": "code",
   "execution_count": 25,
   "id": "208ff95d",
   "metadata": {
    "execution": {
     "iopub.execute_input": "2025-06-08T10:04:58.839546Z",
     "iopub.status.busy": "2025-06-08T10:04:58.839153Z",
     "iopub.status.idle": "2025-06-08T10:04:58.848841Z",
     "shell.execute_reply": "2025-06-08T10:04:58.847877Z"
    },
    "papermill": {
     "duration": 0.024431,
     "end_time": "2025-06-08T10:04:58.850349",
     "exception": false,
     "start_time": "2025-06-08T10:04:58.825918",
     "status": "completed"
    },
    "tags": []
   },
   "outputs": [
    {
     "name": "stdout",
     "output_type": "stream",
     "text": [
      "\n",
      "🔬 Статистический тест:\n",
      "ANOVA: p-value = 0.70309 → Нет оснований отклонить H₀ — различия между странами не значимы\n"
     ]
    }
   ],
   "source": [
    "# Проведи ANOVA или Kruskal–Wallis тест для score по странам.\n",
    "\n",
    "from scipy.stats import f_oneway\n",
    "\n",
    "print(\"\\n🔬 Статистический тест:\")\n",
    "\n",
    "alpha = 0.05\n",
    "\n",
    "if all(normal_flags) and equal_var:\n",
    "    stat_anova, p_anova = f_oneway(*grouped)\n",
    "    print(f\"ANOVA: p-value = {p_anova:.5f} → \", end='')\n",
    "    if p_anova <= alpha:\n",
    "        print(\"Отклоняем H₀ — есть статистически значимые различия между странами\")\n",
    "    else:\n",
    "        print(\"Нет оснований отклонить H₀ — различия между странами не значимы\")\n",
    "else:\n",
    "    stat_kruskal, p_kruskal = kruskal(*grouped)\n",
    "    print(f\"Kruskal–Wallis: p-value = {p_kruskal:.5f} → \", end='')\n",
    "    if p_kruskal <= alpha:\n",
    "        print(\"Отклоняем H₀ — есть статистически значимые различия между странами\")\n",
    "    else:\n",
    "        print(\"Нет оснований отклонить H₀ — различия между странами не значимы\")"
   ]
  },
  {
   "cell_type": "markdown",
   "id": "05834a79",
   "metadata": {
    "papermill": {
     "duration": 0.012168,
     "end_time": "2025-06-08T10:04:58.874867",
     "exception": false,
     "start_time": "2025-06-08T10:04:58.862699",
     "status": "completed"
    },
    "tags": []
   },
   "source": [
    "### 🔁 Регрессия\n",
    "21.\tПострой линейную регрессию: score ~ activity_score.\n",
    "22.\tВыведи R² и MSE. Как ты оцениваешь модель?"
   ]
  },
  {
   "cell_type": "code",
   "execution_count": 26,
   "id": "fcec1832",
   "metadata": {
    "execution": {
     "iopub.execute_input": "2025-06-08T10:04:58.900985Z",
     "iopub.status.busy": "2025-06-08T10:04:58.900655Z",
     "iopub.status.idle": "2025-06-08T10:04:58.938214Z",
     "shell.execute_reply": "2025-06-08T10:04:58.937338Z"
    },
    "papermill": {
     "duration": 0.052419,
     "end_time": "2025-06-08T10:04:58.939790",
     "exception": false,
     "start_time": "2025-06-08T10:04:58.887371",
     "status": "completed"
    },
    "tags": []
   },
   "outputs": [
    {
     "data": {
      "text/html": [
       "<style>#sk-container-id-1 {color: black;background-color: white;}#sk-container-id-1 pre{padding: 0;}#sk-container-id-1 div.sk-toggleable {background-color: white;}#sk-container-id-1 label.sk-toggleable__label {cursor: pointer;display: block;width: 100%;margin-bottom: 0;padding: 0.3em;box-sizing: border-box;text-align: center;}#sk-container-id-1 label.sk-toggleable__label-arrow:before {content: \"▸\";float: left;margin-right: 0.25em;color: #696969;}#sk-container-id-1 label.sk-toggleable__label-arrow:hover:before {color: black;}#sk-container-id-1 div.sk-estimator:hover label.sk-toggleable__label-arrow:before {color: black;}#sk-container-id-1 div.sk-toggleable__content {max-height: 0;max-width: 0;overflow: hidden;text-align: left;background-color: #f0f8ff;}#sk-container-id-1 div.sk-toggleable__content pre {margin: 0.2em;color: black;border-radius: 0.25em;background-color: #f0f8ff;}#sk-container-id-1 input.sk-toggleable__control:checked~div.sk-toggleable__content {max-height: 200px;max-width: 100%;overflow: auto;}#sk-container-id-1 input.sk-toggleable__control:checked~label.sk-toggleable__label-arrow:before {content: \"▾\";}#sk-container-id-1 div.sk-estimator input.sk-toggleable__control:checked~label.sk-toggleable__label {background-color: #d4ebff;}#sk-container-id-1 div.sk-label input.sk-toggleable__control:checked~label.sk-toggleable__label {background-color: #d4ebff;}#sk-container-id-1 input.sk-hidden--visually {border: 0;clip: rect(1px 1px 1px 1px);clip: rect(1px, 1px, 1px, 1px);height: 1px;margin: -1px;overflow: hidden;padding: 0;position: absolute;width: 1px;}#sk-container-id-1 div.sk-estimator {font-family: monospace;background-color: #f0f8ff;border: 1px dotted black;border-radius: 0.25em;box-sizing: border-box;margin-bottom: 0.5em;}#sk-container-id-1 div.sk-estimator:hover {background-color: #d4ebff;}#sk-container-id-1 div.sk-parallel-item::after {content: \"\";width: 100%;border-bottom: 1px solid gray;flex-grow: 1;}#sk-container-id-1 div.sk-label:hover label.sk-toggleable__label {background-color: #d4ebff;}#sk-container-id-1 div.sk-serial::before {content: \"\";position: absolute;border-left: 1px solid gray;box-sizing: border-box;top: 0;bottom: 0;left: 50%;z-index: 0;}#sk-container-id-1 div.sk-serial {display: flex;flex-direction: column;align-items: center;background-color: white;padding-right: 0.2em;padding-left: 0.2em;position: relative;}#sk-container-id-1 div.sk-item {position: relative;z-index: 1;}#sk-container-id-1 div.sk-parallel {display: flex;align-items: stretch;justify-content: center;background-color: white;position: relative;}#sk-container-id-1 div.sk-item::before, #sk-container-id-1 div.sk-parallel-item::before {content: \"\";position: absolute;border-left: 1px solid gray;box-sizing: border-box;top: 0;bottom: 0;left: 50%;z-index: -1;}#sk-container-id-1 div.sk-parallel-item {display: flex;flex-direction: column;z-index: 1;position: relative;background-color: white;}#sk-container-id-1 div.sk-parallel-item:first-child::after {align-self: flex-end;width: 50%;}#sk-container-id-1 div.sk-parallel-item:last-child::after {align-self: flex-start;width: 50%;}#sk-container-id-1 div.sk-parallel-item:only-child::after {width: 0;}#sk-container-id-1 div.sk-dashed-wrapped {border: 1px dashed gray;margin: 0 0.4em 0.5em 0.4em;box-sizing: border-box;padding-bottom: 0.4em;background-color: white;}#sk-container-id-1 div.sk-label label {font-family: monospace;font-weight: bold;display: inline-block;line-height: 1.2em;}#sk-container-id-1 div.sk-label-container {text-align: center;}#sk-container-id-1 div.sk-container {/* jupyter's `normalize.less` sets `[hidden] { display: none; }` but bootstrap.min.css set `[hidden] { display: none !important; }` so we also need the `!important` here to be able to override the default hidden behavior on the sphinx rendered scikit-learn.org. See: https://github.com/scikit-learn/scikit-learn/issues/21755 */display: inline-block !important;position: relative;}#sk-container-id-1 div.sk-text-repr-fallback {display: none;}</style><div id=\"sk-container-id-1\" class=\"sk-top-container\"><div class=\"sk-text-repr-fallback\"><pre>LinearRegression()</pre><b>In a Jupyter environment, please rerun this cell to show the HTML representation or trust the notebook. <br />On GitHub, the HTML representation is unable to render, please try loading this page with nbviewer.org.</b></div><div class=\"sk-container\" hidden><div class=\"sk-item\"><div class=\"sk-estimator sk-toggleable\"><input class=\"sk-toggleable__control sk-hidden--visually\" id=\"sk-estimator-id-1\" type=\"checkbox\" checked><label for=\"sk-estimator-id-1\" class=\"sk-toggleable__label sk-toggleable__label-arrow\">LinearRegression</label><div class=\"sk-toggleable__content\"><pre>LinearRegression()</pre></div></div></div></div></div>"
      ],
      "text/plain": [
       "LinearRegression()"
      ]
     },
     "execution_count": 26,
     "metadata": {},
     "output_type": "execute_result"
    }
   ],
   "source": [
    "# Построй линейную регрессию: score ~ activity_score.\n",
    "\n",
    "X = df_portfolio[['activity_score']]\n",
    "y = df_portfolio[['score']]\n",
    "\n",
    "X_train, X_test, y_train, y_test = train_test_split(X, y, test_size=0.2, random_state=42)\n",
    "\n",
    "model = LinearRegression()\n",
    "model.fit(X_train, y_train)\n"
   ]
  },
  {
   "cell_type": "code",
   "execution_count": 27,
   "id": "8a5332d8",
   "metadata": {
    "execution": {
     "iopub.execute_input": "2025-06-08T10:04:58.966439Z",
     "iopub.status.busy": "2025-06-08T10:04:58.966098Z",
     "iopub.status.idle": "2025-06-08T10:04:58.976033Z",
     "shell.execute_reply": "2025-06-08T10:04:58.975057Z"
    },
    "papermill": {
     "duration": 0.0249,
     "end_time": "2025-06-08T10:04:58.977623",
     "exception": false,
     "start_time": "2025-06-08T10:04:58.952723",
     "status": "completed"
    },
    "tags": []
   },
   "outputs": [
    {
     "name": "stdout",
     "output_type": "stream",
     "text": [
      "🔍 MSE (среднеквадратичная ошибка): 102.85\n",
      "🔍 R² (коэффициент детерминации): -0.002\n"
     ]
    }
   ],
   "source": [
    "# Предсказания на тестовой выборке\n",
    "y_pred = model.predict(X_test)\n",
    "\n",
    "# Метрики качества\n",
    "mse = mean_squared_error(y_test, y_pred)\n",
    "r2 = r2_score(y_test, y_pred)\n",
    "\n",
    "print(f\"🔍 MSE (среднеквадратичная ошибка): {mse:.2f}\")\n",
    "print(f\"🔍 R² (коэффициент детерминации): {r2:.3f}\")\n"
   ]
  },
  {
   "cell_type": "markdown",
   "id": "0b901d78",
   "metadata": {
    "papermill": {
     "duration": 0.012245,
     "end_time": "2025-06-08T10:04:59.002547",
     "exception": false,
     "start_time": "2025-06-08T10:04:58.990302",
     "status": "completed"
    },
    "tags": []
   },
   "source": [
    "### 🎯 23. Финальное аналитическое задание\n",
    "    Сделай краткий аналитический вывод:\n",
    "\n",
    "    Какую страну можно считать самой \"эффективной\" по среднему score?\n",
    "\n",
    "    Есть ли статистически значимые различия в показателях между странами?\n",
    "\n",
    "     Как activity_score влияет на score?\n",
    "\n",
    "     Что ты бы рекомендовал на основе этих данных?"
   ]
  },
  {
   "cell_type": "markdown",
   "id": "8a8aba30",
   "metadata": {
    "papermill": {
     "duration": 0.012926,
     "end_time": "2025-06-08T10:04:59.028548",
     "exception": false,
     "start_time": "2025-06-08T10:04:59.015622",
     "status": "completed"
    },
    "tags": []
   },
   "source": [
    "## ✅ Выводы\n",
    "- Данные успешно загружены и очищены от пропусков.\n",
    "- Возраст и активность пользователя оказывают умеренное влияние на итоговый балл.\n",
    "- Наблюдается умеренная положительная корреляция между активностью и итоговым баллом.\n",
    "- Статистически значимых различий по среднему баллу между странами не обнаружено.\n",
    "- Простая модель линейной регрессии показывает умеренное качество предсказания, что указывает на возможность улучшения при добавлении дополнительных признаков.\n"
   ]
  }
 ],
 "metadata": {
  "kaggle": {
   "accelerator": "none",
   "dataSources": [],
   "dockerImageVersionId": 31040,
   "isGpuEnabled": false,
   "isInternetEnabled": true,
   "language": "python",
   "sourceType": "notebook"
  },
  "kernelspec": {
   "display_name": "Python 3",
   "language": "python",
   "name": "python3"
  },
  "language_info": {
   "codemirror_mode": {
    "name": "ipython",
    "version": 3
   },
   "file_extension": ".py",
   "mimetype": "text/x-python",
   "name": "python",
   "nbconvert_exporter": "python",
   "pygments_lexer": "ipython3",
   "version": "3.11.11"
  },
  "papermill": {
   "default_parameters": {},
   "duration": 14.7299,
   "end_time": "2025-06-08T10:04:59.861796",
   "environment_variables": {},
   "exception": null,
   "input_path": "__notebook__.ipynb",
   "output_path": "__notebook__.ipynb",
   "parameters": {},
   "start_time": "2025-06-08T10:04:45.131896",
   "version": "2.6.0"
  }
 },
 "nbformat": 4,
 "nbformat_minor": 5
}
